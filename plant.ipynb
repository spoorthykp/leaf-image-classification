{
 "cells": [
  {
   "cell_type": "code",
   "execution_count": null,
   "metadata": {},
   "outputs": [],
   "source": []
  },
  {
   "cell_type": "code",
   "execution_count": 3,
   "metadata": {},
   "outputs": [
    {
     "name": "stderr",
     "output_type": "stream",
     "text": [
      "Using TensorFlow backend.\n"
     ]
    },
    {
     "name": "stdout",
     "output_type": "stream",
     "text": [
      "Training data shape:  (827, 128, 128, 3)\n",
      "Training labels shape:  (827, 3)\n"
     ]
    }
   ],
   "source": [
    "import fnmatch\n",
    "import os\n",
    "import numpy as np\n",
    "import pandas as pd\n",
    "from keras.applications.vgg16 import preprocess_input\n",
    "from keras.preprocessing import image\n",
    "np.random.seed(21)\n",
    "\n",
    "path = 'train1/'\n",
    "train_label = []\n",
    "train_img = []\n",
    "label2num = {'Loose Silky-bent':0, 'Charlock':1, 'Sugar beet':2, 'Small-flowered Cranesbill':3,\n",
    "             'Common Chickweed':4, 'Common wheat':5, 'Maize':6, 'Cleavers':7, 'Scentless Mayweed':8,\n",
    "             'Fat Hen':9, 'Black-grass':10, 'Shepherds Purse':11}\n",
    "for i in os.listdir(path):\n",
    "    label_number = label2num[i]\n",
    "    new_path = path+i+'/'\n",
    "    for j in fnmatch.filter(os.listdir(new_path), '*.png'):\n",
    "        temp_img = image.load_img(new_path+j, target_size=(128,128))\n",
    "        train_label.append(label_number)\n",
    "        temp_img = image.img_to_array(temp_img)\n",
    "        train_img.append(temp_img)\n",
    "\n",
    "train_img = np.array(train_img)\n",
    "\n",
    "train_y=pd.get_dummies(train_label)\n",
    "train_y = np.array(train_y)\n",
    "train_img=preprocess_input(train_img)\n",
    "\n",
    "print('Training data shape: ', train_img.shape)\n",
    "print('Training labels shape: ', train_y.shape)"
   ]
  },
  {
   "cell_type": "code",
   "execution_count": 4,
   "metadata": {
    "collapsed": true
   },
   "outputs": [],
   "source": [
    "import keras\n",
    "from keras.models import Sequential,Model\n",
    "from keras.layers import Dense, Dropout, Flatten, Activation\n",
    "from keras.layers import Conv2D, MaxPooling2D\n",
    "from keras.layers.normalization import BatchNormalization\n",
    "from keras.applications.vgg16 import VGG16\n",
    "\n",
    "def vgg16_model(num_classes=None):\n",
    "\n",
    "    model = VGG16(weights='imagenet', include_top=False,input_shape=(128,128,3))\n",
    "    model.layers.pop()\n",
    "    model.layers.pop()\n",
    "    model.layers.pop()\n",
    "\n",
    "    model.outputs = [model.layers[-1].output]\n",
    "\n",
    "    model.layers[-2].outbound_nodes= []\n",
    "    x=Conv2D(256, kernel_size=(2,2),strides=2)(model.output)\n",
    "    x = BatchNormalization()(x)\n",
    "    x = Activation('relu')(x)    \n",
    "    x=Conv2D(128, kernel_size=(2,2),strides=1)(x)\n",
    "    x = BatchNormalization()(x)\n",
    "    x = Activation('relu')(x)\n",
    "    x=Flatten()(x)\n",
    "    x=Dense(num_classes, activation='softmax')(x)\n",
    "\n",
    "    model=Model(model.input,x)\n",
    "\n",
    "    for layer in model.layers[:15]:\n",
    "\n",
    "        layer.trainable = False\n",
    "\n",
    "\n",
    "    return model"
   ]
  },
  {
   "cell_type": "code",
   "execution_count": 5,
   "metadata": {
    "collapsed": true
   },
   "outputs": [],
   "source": [
    "\n",
    "def precision(y_true, y_pred):\n",
    "    true_positives = K.sum(K.round(K.clip(y_true * y_pred, 0, 1)))\n",
    "    predicted_positives = K.sum(K.round(K.clip(y_pred, 0, 1)))\n",
    "    precision = true_positives / (predicted_positives + K.epsilon())\n",
    "    return precision\n",
    "\n",
    "\n",
    "def recall(y_true, y_pred):\n",
    "    true_positives = K.sum(K.round(K.clip(y_true * y_pred, 0, 1)))\n",
    "    possible_positives = K.sum(K.round(K.clip(y_true, 0, 1)))\n",
    "    recall = true_positives / (possible_positives + K.epsilon())\n",
    "    return recall\n",
    "\n",
    "\n",
    "def fscore(y_true, y_pred):\n",
    "    if K.sum(K.round(K.clip(y_true, 0, 1))) == 0:\n",
    "        return 0\n",
    "\n",
    "    p = precision(y_true, y_pred)\n",
    "    r = recall(y_true, y_pred)\n",
    "    f_score = 2 * (p * r) / (p + r + K.epsilon())\n",
    "    return f_score"
   ]
  },
  {
   "cell_type": "code",
   "execution_count": 8,
   "metadata": {},
   "outputs": [
    {
     "name": "stdout",
     "output_type": "stream",
     "text": [
      "_________________________________________________________________\n",
      "Layer (type)                 Output Shape              Param #   \n",
      "=================================================================\n",
      "input_2 (InputLayer)         (None, 128, 128, 3)       0         \n",
      "_________________________________________________________________\n",
      "block1_conv1 (Conv2D)        (None, 128, 128, 64)      1792      \n",
      "_________________________________________________________________\n",
      "block1_conv2 (Conv2D)        (None, 128, 128, 64)      36928     \n",
      "_________________________________________________________________\n",
      "block1_pool (MaxPooling2D)   (None, 64, 64, 64)        0         \n",
      "_________________________________________________________________\n",
      "block2_conv1 (Conv2D)        (None, 64, 64, 128)       73856     \n",
      "_________________________________________________________________\n",
      "block2_conv2 (Conv2D)        (None, 64, 64, 128)       147584    \n",
      "_________________________________________________________________\n",
      "block2_pool (MaxPooling2D)   (None, 32, 32, 128)       0         \n",
      "_________________________________________________________________\n",
      "block3_conv1 (Conv2D)        (None, 32, 32, 256)       295168    \n",
      "_________________________________________________________________\n",
      "block3_conv2 (Conv2D)        (None, 32, 32, 256)       590080    \n",
      "_________________________________________________________________\n",
      "block3_conv3 (Conv2D)        (None, 32, 32, 256)       590080    \n",
      "_________________________________________________________________\n",
      "block3_pool (MaxPooling2D)   (None, 16, 16, 256)       0         \n",
      "_________________________________________________________________\n",
      "block4_conv1 (Conv2D)        (None, 16, 16, 512)       1180160   \n",
      "_________________________________________________________________\n",
      "block4_conv2 (Conv2D)        (None, 16, 16, 512)       2359808   \n",
      "_________________________________________________________________\n",
      "block4_conv3 (Conv2D)        (None, 16, 16, 512)       2359808   \n",
      "_________________________________________________________________\n",
      "block4_pool (MaxPooling2D)   (None, 8, 8, 512)         0         \n",
      "_________________________________________________________________\n",
      "block5_conv1 (Conv2D)        (None, 8, 8, 512)         2359808   \n",
      "_________________________________________________________________\n",
      "block5_conv2 (Conv2D)        (None, 8, 8, 512)         2359808   \n",
      "_________________________________________________________________\n",
      "block5_conv3 (Conv2D)        (None, 8, 8, 512)         2359808   \n",
      "_________________________________________________________________\n",
      "block5_pool (MaxPooling2D)   (None, 4, 4, 512)         0         \n",
      "_________________________________________________________________\n",
      "conv2d_3 (Conv2D)            (None, 2, 2, 256)         524544    \n",
      "_________________________________________________________________\n",
      "batch_normalization_3 (Batch (None, 2, 2, 256)         1024      \n",
      "_________________________________________________________________\n",
      "activation_3 (Activation)    (None, 2, 2, 256)         0         \n",
      "_________________________________________________________________\n",
      "conv2d_4 (Conv2D)            (None, 1, 1, 128)         131200    \n",
      "_________________________________________________________________\n",
      "batch_normalization_4 (Batch (None, 1, 1, 128)         512       \n",
      "_________________________________________________________________\n",
      "activation_4 (Activation)    (None, 1, 1, 128)         0         \n",
      "_________________________________________________________________\n",
      "flatten_2 (Flatten)          (None, 128)               0         \n",
      "_________________________________________________________________\n",
      "dense_2 (Dense)              (None, 3)                 387       \n",
      "=================================================================\n",
      "Total params: 15,372,355\n",
      "Trainable params: 7,736,323\n",
      "Non-trainable params: 7,636,032\n",
      "_________________________________________________________________\n"
     ]
    }
   ],
   "source": [
    "\n",
    "from keras import backend as K\n",
    "num_classes=3\n",
    "model = vgg16_model(num_classes)\n",
    "model.compile(optimizer=\"adam\", loss='categorical_crossentropy', metrics=['accuracy',fscore])\n",
    "model.summary()"
   ]
  },
  {
   "cell_type": "code",
   "execution_count": 9,
   "metadata": {},
   "outputs": [
    {
     "name": "stdout",
     "output_type": "stream",
     "text": [
      "Train on 744 samples, validate on 83 samples\n",
      "Epoch 1/20\n",
      "744/744 [==============================] - 236s 317ms/step - loss: 0.9761 - acc: 0.5551 - fscore: 0.5261 - val_loss: 11.1603 - val_acc: 0.2771 - val_fscore: 0.2771\n",
      "Epoch 2/20\n",
      "744/744 [==============================] - 223s 300ms/step - loss: 0.6537 - acc: 0.7325 - fscore: 0.7092 - val_loss: 4.5311 - val_acc: 0.6386 - val_fscore: 0.6386\n",
      "Epoch 3/20\n",
      "744/744 [==============================] - 210s 283ms/step - loss: 0.4771 - acc: 0.8266 - fscore: 0.8136 - val_loss: 4.2566 - val_acc: 0.4458 - val_fscore: 0.4458\n",
      "Epoch 4/20\n",
      "744/744 [==============================] - 218s 294ms/step - loss: 0.3305 - acc: 0.8884 - fscore: 0.8850 - val_loss: 3.9653 - val_acc: 0.4819 - val_fscore: 0.4819\n",
      "Epoch 5/20\n",
      "744/744 [==============================] - 220s 296ms/step - loss: 0.2360 - acc: 0.9261 - fscore: 0.9287 - val_loss: 2.4072 - val_acc: 0.5301 - val_fscore: 0.5333\n",
      "Epoch 6/20\n",
      "744/744 [==============================] - 270s 363ms/step - loss: 0.1741 - acc: 0.9570 - fscore: 0.9560 - val_loss: 0.5717 - val_acc: 0.7952 - val_fscore: 0.7879\n",
      "Epoch 7/20\n",
      "744/744 [==============================] - 257s 345ms/step - loss: 0.1354 - acc: 0.9677 - fscore: 0.9683 - val_loss: 0.8506 - val_acc: 0.7711 - val_fscore: 0.7730\n",
      "Epoch 8/20\n",
      "744/744 [==============================] - 238s 319ms/step - loss: 0.1323 - acc: 0.9637 - fscore: 0.9623 - val_loss: 0.3107 - val_acc: 0.8675 - val_fscore: 0.8727\n",
      "Epoch 9/20\n",
      "744/744 [==============================] - 225s 302ms/step - loss: 0.0867 - acc: 0.9812 - fscore: 0.9805 - val_loss: 0.9245 - val_acc: 0.6747 - val_fscore: 0.6707\n",
      "Epoch 10/20\n",
      "744/744 [==============================] - 218s 293ms/step - loss: 0.0650 - acc: 0.9879 - fscore: 0.9872 - val_loss: 0.4110 - val_acc: 0.8313 - val_fscore: 0.8313\n",
      "Epoch 11/20\n",
      "744/744 [==============================] - 212s 285ms/step - loss: 0.0525 - acc: 0.9906 - fscore: 0.9892 - val_loss: 0.2436 - val_acc: 0.8795 - val_fscore: 0.8848\n",
      "Epoch 12/20\n",
      "744/744 [==============================] - 212s 285ms/step - loss: 0.0313 - acc: 0.9946 - fscore: 0.9946 - val_loss: 0.4445 - val_acc: 0.8795 - val_fscore: 0.8727\n",
      "Epoch 13/20\n",
      "744/744 [==============================] - 209s 281ms/step - loss: 0.0293 - acc: 0.9960 - fscore: 0.9960 - val_loss: 0.1799 - val_acc: 0.9398 - val_fscore: 0.9398\n",
      "Epoch 14/20\n",
      "744/744 [==============================] - 206s 277ms/step - loss: 0.0220 - acc: 0.9960 - fscore: 0.9966 - val_loss: 0.4396 - val_acc: 0.8795 - val_fscore: 0.8780\n",
      "Epoch 15/20\n",
      "744/744 [==============================] - 208s 280ms/step - loss: 0.0229 - acc: 0.9973 - fscore: 0.9960 - val_loss: 0.5255 - val_acc: 0.8434 - val_fscore: 0.8485\n",
      "Epoch 16/20\n",
      "744/744 [==============================] - 269s 362ms/step - loss: 0.0156 - acc: 0.9987 - fscore: 0.9987 - val_loss: 0.3341 - val_acc: 0.8795 - val_fscore: 0.8727\n",
      "Epoch 17/20\n",
      "744/744 [==============================] - 206s 277ms/step - loss: 0.0100 - acc: 1.0000 - fscore: 1.0000 - val_loss: 0.7890 - val_acc: 0.7831 - val_fscore: 0.7683\n",
      "Epoch 18/20\n",
      "744/744 [==============================] - 203s 273ms/step - loss: 0.0077 - acc: 1.0000 - fscore: 1.0000 - val_loss: 1.9202 - val_acc: 0.4819 - val_fscore: 0.4819\n",
      "Epoch 19/20\n",
      "744/744 [==============================] - 200s 269ms/step - loss: 0.0062 - acc: 1.0000 - fscore: 1.0000 - val_loss: 0.5581 - val_acc: 0.8675 - val_fscore: 0.8675\n",
      "Epoch 20/20\n",
      "744/744 [==============================] - 202s 271ms/step - loss: 0.0048 - acc: 1.0000 - fscore: 1.0000 - val_loss: 0.3691 - val_acc: 0.9036 - val_fscore: 0.9036\n"
     ]
    },
    {
     "data": {
      "text/plain": [
       "<keras.callbacks.History at 0x26def031240>"
      ]
     },
     "execution_count": 9,
     "metadata": {},
     "output_type": "execute_result"
    }
   ],
   "source": [
    "#Split training data into rain set and validation set\n",
    "from sklearn.model_selection import train_test_split\n",
    "X_train, X_valid, Y_train, Y_valid=train_test_split(train_img,train_y,test_size=0.1, random_state=42)\n",
    "\n",
    "#Data augmentation\n",
    "'''from keras.preprocessing.image import ImageDataGenerator\n",
    "gen_train = ImageDataGenerator( \n",
    "    rotation_range=30,\n",
    "    width_shift_range=0.2,\n",
    "   height_shift_range=0.2,\n",
    "    horizontal_flip=True,\n",
    "    vertical_flip=True\n",
    "\n",
    ")\n",
    "gen_train.fit(X_train)\n",
    "\n",
    "#Train model\n",
    "from keras.callbacks import ModelCheckpoint\n",
    "epochs = 10\n",
    "batch_size = 32\n",
    "model_checkpoint = ModelCheckpoint('weights.h5', monitor='val_loss', save_best_only=True)\n",
    " \n",
    "model.fit_generator(gen_train.flow(X_train, Y_train, batch_size=batch_size, shuffle=True), \n",
    "                    steps_per_epoch=(X_train.shape[0]//(4*batch_size)), \n",
    "                    epochs=epochs, \n",
    "                    validation_data=(X_valid,Y_valid),\n",
    "                    callbacks=[model_checkpoint],verbose=1)\n",
    "'''\n",
    "from keras.callbacks import ModelCheckpoint\n",
    "epochs = 10\n",
    "batch_size = 32\n",
    "model_checkpoint = ModelCheckpoint('weights.h5', monitor='val_loss', save_best_only=True)\n",
    "\n",
    "model.fit(X_train,Y_train,\n",
    "          batch_size=128,\n",
    "          epochs=20,\n",
    "          verbose=1, shuffle=True, validation_data=(X_valid,Y_valid), callbacks=[model_checkpoint])"
   ]
  },
  {
   "cell_type": "code",
   "execution_count": 10,
   "metadata": {},
   "outputs": [
    {
     "data": {
      "image/png": "[encoded data removed]",
      "text/plain": [
       "<matplotlib.figure.Figure at 0x26d8be313c8>"
      ]
     },
     "metadata": {},
     "output_type": "display_data"
    }
   ],
   "source": [
    "import matplotlib.pyplot as plt\n",
    "def plot_model(model):\n",
    "    plots = [i for i in model.history.history.keys() if i.find('val_') == -1]\n",
    "    plt.figure(figsize=(10,10))           \n",
    "\n",
    "    for i, p in enumerate(plots):\n",
    "        plt.subplot(len(plots), 2, i + 1)\n",
    "        plt.title(p)\n",
    "        plt.plot(model.history.history[p], label=p)\n",
    "        plt.plot(model.history.history['val_'+p], label='val_'+p)\n",
    "        plt.legend()\n",
    "\n",
    "    plt.show()\n",
    "    \n",
    "plot_model(model)"
   ]
  },
  {
   "cell_type": "code",
   "execution_count": 11,
   "metadata": {
    "collapsed": true
   },
   "outputs": [],
   "source": [
    "model.load_weights('weights.h5')\n"
   ]
  },
  {
   "cell_type": "code",
   "execution_count": 15,
   "metadata": {},
   "outputs": [
    {
     "name": "stdout",
     "output_type": "stream",
     "text": [
      "            file       species\n",
      "0  0021e90e4.png    Sugar beet\n",
      "1  003d61042.png  Common wheat\n",
      "2  007b3da8b.png    Sugar beet\n",
      "3  0086a6340.png    Sugar beet\n",
      "4  00c47e980.png    Sugar beet\n"
     ]
    }
   ],
   "source": [
    "prob=[]\n",
    "num=[]\n",
    "test_img=[]\n",
    "test_path = 'test/test/'\n",
    "test_all = fnmatch.filter(os.listdir(test_path), '*.png')\n",
    "\n",
    "test_img=[]\n",
    "for i in range(len(test_all)):\n",
    "    path=test_path+'/'+test_all[i]\n",
    "    temp_img=image.load_img(path,target_size=(128,128))\n",
    "    temp_img=image.img_to_array(temp_img)\n",
    "    test_img.append(temp_img) \n",
    "test_img=np.array(test_img)    \n",
    "test_img=preprocess_input(test_img)\n",
    "\n",
    "\n",
    "test_labels=[]\n",
    "pred=model.predict(test_img)\n",
    "num2label =  {0:'Loose Silky-bent', 1:'Charlock',2: 'Sugar beet',3: 'Small-flowered Cranesbill',\n",
    "             4:'Common Chickweed',5: 'Common wheat',6: 'Maize', 7:'Cleavers', 8:'Scentless Mayweed',\n",
    "             9: 'Fat Hen', 10:'Black-grass', 11:'Shepherds Purse'}\n",
    "for i in range(len(test_all)):\n",
    "    max_score =0\n",
    "    lab=-1\n",
    "    for j in range(3):\n",
    "        if pred[i][j]>max_score:\n",
    "            max_score=pred[i][j]\n",
    "            lab=j\n",
    "    test_labels.append(num2label[lab])\n",
    "\n",
    "\n",
    "d = {'file': test_all, 'species': test_labels}\n",
    "df = pd.DataFrame(data=d)\n",
    "print(df.head(5))"
   ]
  },
  {
   "cell_type": "code",
   "execution_count": 18,
   "metadata": {},
   "outputs": [
    {
     "name": "stdout",
     "output_type": "stream",
     "text": [
      "Submitting csv\n"
     ]
    }
   ],
   "source": [
    "#Convert dataframe to csv\n",
    "\n",
    "df.to_csv(\"submit.csv\",index=False) \n",
    "\n",
    "#Submit the csv\n",
    "print('Submitting csv')\n",
    "#!kg submit submit.csv -u <username> -p <password> -c plant-seedlings-classification"
   ]
  },
  {
   "cell_type": "code",
   "execution_count": null,
   "metadata": {},
   "outputs": [],
   "source": [
    "\n",
    "    "
   ]
  },
  {
   "cell_type": "code",
   "execution_count": null,
   "metadata": {},
   "outputs": [],
   "source": []
  },
  {
   "cell_type": "code",
   "execution_count": null,
   "metadata": {
    "collapsed": true
   },
   "outputs": [],
   "source": []
  }
 ],
 "metadata": {
  "kernelspec": {
   "display_name": "Python 3",
   "language": "python",
   "name": "python3"
  },
  "language_info": {
   "codemirror_mode": {
    "name": "ipython",
    "version": 3
   },
   "file_extension": ".py",
   "mimetype": "text/x-python",
   "name": "python",
   "nbconvert_exporter": "python",
   "pygments_lexer": "ipython3",
   "version": "3.7.0"
  }
 },
 "nbformat": 4,
 "nbformat_minor": 2
}
